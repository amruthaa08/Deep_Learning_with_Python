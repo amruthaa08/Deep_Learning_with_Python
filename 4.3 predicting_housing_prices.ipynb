{
 "cells": [
  {
   "cell_type": "markdown",
   "id": "69b5de9f",
   "metadata": {},
   "source": [
    "We’ll attempt to predict the **median price** of homes in a given Boston\n",
    "suburb in the mid-1970s, given data points about the suburb at the time, such as the\n",
    "crime rate, the local property tax rate, and so on."
   ]
  },
  {
   "cell_type": "markdown",
   "id": "a9be29b3",
   "metadata": {},
   "source": [
    "- dataset has relatively few data points\n",
    "- each feature has a diff scale"
   ]
  },
  {
   "cell_type": "code",
   "execution_count": 2,
   "id": "bddd71b8",
   "metadata": {},
   "outputs": [
    {
     "name": "stderr",
     "output_type": "stream",
     "text": [
      "2023-03-13 18:29:27.820310: I tensorflow/core/platform/cpu_feature_guard.cc:193] This TensorFlow binary is optimized with oneAPI Deep Neural Network Library (oneDNN) to use the following CPU instructions in performance-critical operations:  SSE4.1 SSE4.2 AVX AVX2 FMA\n",
      "To enable them in other operations, rebuild TensorFlow with the appropriate compiler flags.\n"
     ]
    }
   ],
   "source": [
    "# importing data\n",
    "import tensorflow"
   ]
  },
  {
   "cell_type": "code",
   "execution_count": 4,
   "id": "cc448365",
   "metadata": {},
   "outputs": [
    {
     "name": "stdout",
     "output_type": "stream",
     "text": [
      "Downloading data from https://storage.googleapis.com/tensorflow/tf-keras-datasets/boston_housing.npz\n",
      "57026/57026 [==============================] - 0s 2us/step\n"
     ]
    }
   ],
   "source": [
    "from tensorflow.keras.datasets import boston_housing\n",
    "(train_data, train_labels), (test_data, test_labels) = (boston_housing.load_data())"
   ]
  },
  {
   "cell_type": "code",
   "execution_count": 5,
   "id": "f424e1fa",
   "metadata": {},
   "outputs": [
    {
     "data": {
      "text/plain": [
       "((404, 13), (102, 13))"
      ]
     },
     "execution_count": 5,
     "metadata": {},
     "output_type": "execute_result"
    }
   ],
   "source": [
    "train_data.shape, test_data.shape"
   ]
  },
  {
   "cell_type": "code",
   "execution_count": 8,
   "id": "fd702ae1",
   "metadata": {},
   "outputs": [
    {
     "data": {
      "text/plain": [
       "array([15.2, 42.3, 50. , 21.1, 17.7, 18.5, 11.3, 15.6, 15.6, 14.4])"
      ]
     },
     "execution_count": 8,
     "metadata": {},
     "output_type": "execute_result"
    }
   ],
   "source": [
    "train_labels[:10]\n",
    "# targets are median value of owner-occupied homes, in thousands of dollars"
   ]
  },
  {
   "cell_type": "markdown",
   "id": "c6332a0c",
   "metadata": {},
   "source": [
    "### Preparing data"
   ]
  },
  {
   "cell_type": "code",
   "execution_count": 9,
   "id": "83c08554",
   "metadata": {},
   "outputs": [],
   "source": [
    "# normalize data \n",
    "# 0 mean and unit standard deviation\n",
    "mean = train_data.mean(axis=0)\n",
    "train_data -= mean\n",
    "std = train_data.std(axis=0)\n",
    "train_data /= std\n",
    "\n",
    "# test data is normalized using values computed from train data\n",
    "test_data -= mean\n",
    "test_data /= std"
   ]
  },
  {
   "cell_type": "markdown",
   "id": "b87b30c3",
   "metadata": {},
   "source": [
    "## NOTE: quantities used for normalizing the test data are computed using the training data. You should never use any quantity computed on the test data in your workflow, even for something as simple as data normalization."
   ]
  },
  {
   "cell_type": "markdown",
   "id": "2820f7ce",
   "metadata": {},
   "source": [
    "### Building model"
   ]
  },
  {
   "cell_type": "code",
   "execution_count": 18,
   "id": "aade6006",
   "metadata": {},
   "outputs": [],
   "source": [
    "from tensorflow.keras import layers\n",
    "from tensorflow import keras"
   ]
  },
  {
   "cell_type": "code",
   "execution_count": 12,
   "id": "feb5145e",
   "metadata": {},
   "outputs": [],
   "source": [
    "# custom function to build a model\n",
    "def build_model():\n",
    "    model = keras.Sequential([\n",
    "        layers.Dense(64, activation=\"relu\"),\n",
    "        layers.Dense(64, activation=\"relu\"),\n",
    "        layers.Dense(1)\n",
    "    ])\n",
    "# no activation is used for the last layer\n",
    "# using activation restricts the range of output values\n",
    "\n",
    "    model.compile(optimizer=\"rmsprop\", loss=\"mse\", metrics=[\"mae\"])\n",
    "    return model"
   ]
  },
  {
   "cell_type": "markdown",
   "id": "85db2a81",
   "metadata": {},
   "source": [
    "### Model validation"
   ]
  },
  {
   "cell_type": "markdown",
   "id": "100c2d5b",
   "metadata": {},
   "source": [
    "As number of data samples is less, holdout splitting might result in validation scores having a high variance with regard to validation split."
   ]
  },
  {
   "cell_type": "markdown",
   "id": "d81acd10",
   "metadata": {},
   "source": [
    "Hence use k-fold cross validation"
   ]
  },
  {
   "cell_type": "code",
   "execution_count": 20,
   "id": "59cc427d",
   "metadata": {},
   "outputs": [
    {
     "name": "stdout",
     "output_type": "stream",
     "text": [
      "Processing fold #0\n",
      "Processing fold #1\n",
      "Processing fold #2\n",
      "Processing fold #3\n"
     ]
    }
   ],
   "source": [
    "import numpy as np\n",
    "\n",
    "# number of partitions\n",
    "k = 4\n",
    "\n",
    "# get size of each partition = size of validation data\n",
    "num_val_samples = len(train_data)//k\n",
    "\n",
    "# define number of epochs\n",
    "num_epochs = 100\n",
    "\n",
    "# list to hold each score\n",
    "all_scores = []\n",
    "\n",
    "# k iterations\n",
    "for i in range(k):\n",
    "    print(f\"Processing fold #{i}\")\n",
    "    \n",
    "    # get validation split\n",
    "    val_data = train_data[i*num_val_samples: (i+1)*num_val_samples]\n",
    "    val_targets = train_labels[i*num_val_samples : (i+1)*num_val_samples]\n",
    "    \n",
    "    # getting train split\n",
    "    partial_train_data = np.concatenate([\n",
    "        train_data[:i*num_val_samples],\n",
    "        train_data[(i+1)*num_val_samples:]\n",
    "    ], axis=0)\n",
    "    \n",
    "    partial_train_targets = np.concatenate([\n",
    "        train_labels[:i*num_val_samples],\n",
    "        train_labels[(i+1)*num_val_samples:]\n",
    "    ], axis=0)\n",
    "    \n",
    "    # build model using custom function\n",
    "    model = build_model()\n",
    "    \n",
    "    # fitting model\n",
    "    model.fit(partial_train_data, partial_train_targets, epochs=num_epochs,\n",
    "             batch_size = 16, verbose=0)\n",
    "    \n",
    "    # evaluating model\n",
    "    val_mse, val_mae = model.evaluate(val_data, val_targets, verbose = 0)\n",
    "    all_scores.append(val_mae)"
   ]
  },
  {
   "cell_type": "code",
   "execution_count": 21,
   "id": "ff97639c",
   "metadata": {},
   "outputs": [
    {
     "data": {
      "text/plain": [
       "[1.96974515914917, 2.3963546752929688, 2.514951705932617, 2.307213544845581]"
      ]
     },
     "execution_count": 21,
     "metadata": {},
     "output_type": "execute_result"
    }
   ],
   "source": [
    "all_scores"
   ]
  },
  {
   "cell_type": "code",
   "execution_count": 22,
   "id": "c487b9a1",
   "metadata": {},
   "outputs": [
    {
     "data": {
      "text/plain": [
       "2.2970662713050842"
      ]
     },
     "execution_count": 22,
     "metadata": {},
     "output_type": "execute_result"
    }
   ],
   "source": [
    "np.mean(all_scores)"
   ]
  },
  {
   "cell_type": "markdown",
   "id": "85ff08d5",
   "metadata": {},
   "source": [
    "### Training a model for 500 epochs"
   ]
  },
  {
   "cell_type": "code",
   "execution_count": 25,
   "id": "78cada5c",
   "metadata": {},
   "outputs": [
    {
     "name": "stdout",
     "output_type": "stream",
     "text": [
      "Processing fold #0\n",
      "Processing fold #1\n",
      "Processing fold #2\n",
      "Processing fold #3\n"
     ]
    }
   ],
   "source": [
    "# train for 500 epochs now\n",
    "num_epochs = 500\n",
    "\n",
    "# list of mae histories for each cross validation model\n",
    "all_mae_histories = []\n",
    "\n",
    "# k iterations (cross validations)\n",
    "for i in range(k):\n",
    "    print(f\"Processing fold #{i}\")\n",
    "    \n",
    "    # splitting data\n",
    "    val_data = train_data[i * num_val_samples: (i + 1) * num_val_samples]\n",
    "    val_targets = train_labels[i * num_val_samples: (i + 1) * num_val_samples]\n",
    "    partial_train_data = np.concatenate(\n",
    "        [train_data[:i * num_val_samples],\n",
    "        train_data[(i + 1) * num_val_samples:]],\n",
    "        axis=0)\n",
    "    partial_train_targets = np.concatenate(\n",
    "        [train_labels[:i * num_val_samples],\n",
    "        train_labels[(i + 1) * num_val_samples:]],\n",
    "        axis=0)\n",
    "    \n",
    "    # building model\n",
    "    model = build_model()\n",
    "    \n",
    "    # fitting model with history\n",
    "    history = model.fit(partial_train_data, partial_train_targets,\n",
    "        validation_data=(val_data, val_targets),\n",
    "        epochs=num_epochs, batch_size=16, verbose=0)\n",
    "    \n",
    "    # obtaining validation mae history\n",
    "    mae_history = history.history[\"val_mae\"]\n",
    "    \n",
    "    # appending to all histories\n",
    "    all_mae_histories.append(mae_history)"
   ]
  },
  {
   "cell_type": "code",
   "execution_count": 30,
   "id": "96f434e1",
   "metadata": {},
   "outputs": [
    {
     "data": {
      "text/plain": [
       "500"
      ]
     },
     "execution_count": 30,
     "metadata": {},
     "output_type": "execute_result"
    }
   ],
   "source": [
    "len(all_mae_histories[0])"
   ]
  },
  {
   "cell_type": "code",
   "execution_count": 31,
   "id": "89389e55",
   "metadata": {},
   "outputs": [],
   "source": [
    "# get average per epoch mae for all folds\n",
    "# epoch 1 mae = mean of all epoch 1 mae\n",
    "\n",
    "average_mae_history = [\n",
    "    np.mean([x[i] for x in all_mae_histories]) for i in range(num_epochs)\n",
    "]"
   ]
  },
  {
   "cell_type": "code",
   "execution_count": 34,
   "id": "f968793a",
   "metadata": {},
   "outputs": [
    {
     "data": {
      "text/plain": [
       "500"
      ]
     },
     "execution_count": 34,
     "metadata": {},
     "output_type": "execute_result"
    }
   ],
   "source": [
    "len(average_mae_history)"
   ]
  },
  {
   "cell_type": "code",
   "execution_count": 37,
   "id": "1ebfb398",
   "metadata": {},
   "outputs": [],
   "source": [
    "import matplotlib.pyplot as plt"
   ]
  },
  {
   "cell_type": "code",
   "execution_count": 38,
   "id": "a7e33283",
   "metadata": {},
   "outputs": [
    {
     "data": {
      "image/png": "[encoded data removed]",
      "text/plain": [
       "<Figure size 640x480 with 1 Axes>"
      ]
     },
     "metadata": {},
     "output_type": "display_data"
    }
   ],
   "source": [
    "# plotting avg mae history\n",
    "plt.plot(range(1, len(average_mae_history)+1), average_mae_history)\n",
    "plt.xlabel(\"Epochs\")\n",
    "plt.ylabel(\"Validation MAE\")\n",
    "plt.show();"
   ]
  },
  {
   "cell_type": "code",
   "execution_count": 39,
   "id": "370829bc",
   "metadata": {},
   "outputs": [
    {
     "data": {
      "image/png": "[encoded data removed]",
      "text/plain": [
       "<Figure size 640x480 with 1 Axes>"
      ]
     },
     "metadata": {},
     "output_type": "display_data"
    }
   ],
   "source": [
    "# scale plot to see it better\n",
    "trun_mae_history = average_mae_history[10:]\n",
    "plt.plot(range(1, len(trun_mae_history)+1), trun_mae_history)\n",
    "plt.xlabel(\"Epochs\")\n",
    "plt.ylabel(\"Validation MAE\")\n",
    "plt.show();"
   ]
  },
  {
   "cell_type": "markdown",
   "id": "f4aacaa7",
   "metadata": {},
   "source": [
    "Validation MAE stops improving after 120-140 epochs"
   ]
  },
  {
   "cell_type": "markdown",
   "id": "bbb6d759",
   "metadata": {},
   "source": [
    "### Training final model"
   ]
  },
  {
   "cell_type": "code",
   "execution_count": 42,
   "id": "90af9a43",
   "metadata": {},
   "outputs": [
    {
     "name": "stdout",
     "output_type": "stream",
     "text": [
      "4/4 [==============================] - 0s 23ms/step - loss: 13.3428 - mae: 2.4371\n"
     ]
    }
   ],
   "source": [
    "model = build_model()\n",
    "model.fit(train_data, train_labels, epochs=130, batch_size=16, verbose=0)\n",
    "test_mse_score, test_mae_score = model.evaluate(test_data, test_labels)"
   ]
  },
  {
   "cell_type": "code",
   "execution_count": 43,
   "id": "b9897c35",
   "metadata": {},
   "outputs": [
    {
     "data": {
      "text/plain": [
       "2.437062978744507"
      ]
     },
     "execution_count": 43,
     "metadata": {},
     "output_type": "execute_result"
    }
   ],
   "source": [
    "test_mae_score"
   ]
  },
  {
   "cell_type": "code",
   "execution_count": null,
   "id": "aa18ee65",
   "metadata": {},
   "outputs": [],
   "source": []
  }
 ],
 "metadata": {
  "kernelspec": {
   "display_name": "env2_kernel",
   "language": "python",
   "name": "env2_kernel"
  },
  "language_info": {
   "codemirror_mode": {
    "name": "ipython",
    "version": 3
   },
   "file_extension": ".py",
   "mimetype": "text/x-python",
   "name": "python",
   "nbconvert_exporter": "python",
   "pygments_lexer": "ipython3",
   "version": "3.10.9"
  }
 },
 "nbformat": 4,
 "nbformat_minor": 5
}
