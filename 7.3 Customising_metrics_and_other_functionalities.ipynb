{
 "cells": [
  {
   "cell_type": "markdown",
   "id": "a4afb347",
   "metadata": {},
   "source": [
    "# Workflow:\n",
    "#### 1. Starting off with built-in functionality\n",
    "#### 2. Writing your own metrics\n",
    "#### 3. Using callbacks\n",
    "#### 4. Monitoring and visualising using TensorBoard\n",
    "#### 5. Writing custom training and evaluation loops\n"
   ]
  },
  {
   "cell_type": "markdown",
   "id": "6db3bc36",
   "metadata": {},
   "source": [
    "# 1. Starting off with a model using built-in training and evaluation loops"
   ]
  },
  {
   "cell_type": "code",
   "execution_count": 1,
   "id": "0b0baa8a",
   "metadata": {},
   "outputs": [
    {
     "name": "stderr",
     "output_type": "stream",
     "text": [
      "2023-03-15 15:32:59.319062: I tensorflow/core/platform/cpu_feature_guard.cc:193] This TensorFlow binary is optimized with oneAPI Deep Neural Network Library (oneDNN) to use the following CPU instructions in performance-critical operations:  SSE4.1 SSE4.2 AVX AVX2 FMA\n",
      "To enable them in other operations, rebuild TensorFlow with the appropriate compiler flags.\n"
     ]
    }
   ],
   "source": [
    "from tensorflow import keras\n",
    "from tensorflow.keras import layers\n",
    "from tensorflow.keras.datasets import mnist\n",
    "\n",
    "# function to create model\n",
    "# using functional API ? lol\n",
    "def get_minst_model():\n",
    "    inputs = keras.Input(shape=(28*28,))\n",
    "    features = layers.Dense(512, activation=\"relu\")(inputs)\n",
    "    features = layers.Dropout(0.5)(features)\n",
    "    outputs = layers.Dense(10, activation=\"softmax\")(features)\n",
    "    model = keras.Model(inputs, outputs)\n",
    "    return model"
   ]
  },
  {
   "cell_type": "code",
   "execution_count": 2,
   "id": "afd125b4",
   "metadata": {},
   "outputs": [
    {
     "name": "stderr",
     "output_type": "stream",
     "text": [
      "2023-03-15 15:34:06.814205: I tensorflow/core/platform/cpu_feature_guard.cc:193] This TensorFlow binary is optimized with oneAPI Deep Neural Network Library (oneDNN) to use the following CPU instructions in performance-critical operations:  SSE4.1 SSE4.2 AVX AVX2 FMA\n",
      "To enable them in other operations, rebuild TensorFlow with the appropriate compiler flags.\n",
      "2023-03-15 15:34:06.838671: I tensorflow/core/common_runtime/process_util.cc:146] Creating new thread pool with default inter op setting: 2. Tune using inter_op_parallelism_threads for best performance.\n"
     ]
    },
    {
     "name": "stdout",
     "output_type": "stream",
     "text": [
      "Epoch 1/3\n",
      "1563/1563 [==============================] - 22s 13ms/step - loss: 0.2894 - accuracy: 0.9142 - val_loss: 0.1460 - val_accuracy: 0.9585\n",
      "Epoch 2/3\n",
      "1563/1563 [==============================] - 19s 12ms/step - loss: 0.1654 - accuracy: 0.9542 - val_loss: 0.1253 - val_accuracy: 0.9660\n",
      "Epoch 3/3\n",
      "1563/1563 [==============================] - 21s 14ms/step - loss: 0.1380 - accuracy: 0.9632 - val_loss: 0.1158 - val_accuracy: 0.9683\n",
      "313/313 [==============================] - 2s 5ms/step - loss: 0.1073 - accuracy: 0.9715\n",
      "313/313 [==============================] - 1s 4ms/step\n"
     ]
    }
   ],
   "source": [
    "# loading data\n",
    "(images, labels), (test_images, test_labels) = mnist.load_data()\n",
    "\n",
    "# reshaping and normalising data\n",
    "images = images.reshape((60000, 28*28)).astype(\"float32\") / 255\n",
    "test_images = test_images.reshape((10000, 28*28)).astype(\"float32\") / 255\n",
    "\n",
    "# splitting data\n",
    "train_images, val_images = images[10000:], images[:10000]\n",
    "train_labels, val_labels = labels[10000:], labels[:10000]\n",
    "\n",
    "# creating, compiling, fitting model\n",
    "# targets are in the form of integers (not one hot encoded), so use sparse categorical\n",
    "model = get_minst_model()\n",
    "model.compile(optimizer=\"rmsprop\",\n",
    "             loss=\"sparse_categorical_crossentropy\",\n",
    "             metrics=[\"accuracy\"])\n",
    "model.fit(train_images, train_labels, epochs=3, validation_data=(val_images, val_labels))\n",
    "test_metrics = model.evaluate(test_images, test_labels)\n",
    "predictions = model.predict(test_images)"
   ]
  },
  {
   "cell_type": "code",
   "execution_count": 3,
   "id": "34b6c512",
   "metadata": {},
   "outputs": [
    {
     "data": {
      "text/plain": [
       "[0.10734552890062332, 0.9714999794960022]"
      ]
     },
     "execution_count": 3,
     "metadata": {},
     "output_type": "execute_result"
    }
   ],
   "source": [
    "test_metrics"
   ]
  },
  {
   "cell_type": "markdown",
   "id": "32078c8b",
   "metadata": {},
   "source": [
    "# 2. Writing your own metrics\n",
    "A Keras metric is a subclass of the *keras.metrics.Metric* class. Like layers, a met-\n",
    "ric has an internal state stored in TensorFlow variables. Unlike layers, these variables\n",
    "aren’t updated via backpropagation, so you have to write the state-update logic your-\n",
    "self, which happens in the *update_state()* method.\n",
    "\n",
    "Let's build a custom metric that measures root mean squared error"
   ]
  },
  {
   "cell_type": "markdown",
   "id": "c754a50a",
   "metadata": {},
   "source": [
    "To do so you have to override the update_state, result, and reset_state functions:\n",
    "\n",
    "**update_state()** does all the updates to state variables and calculates the metric,\n",
    "\n",
    "**result()** returns the value for the metric from state variables,\n",
    "\n",
    "\n",
    "**reset_state()** sets the metric value at the beginning of each epoch to a predefined constant (typically 0)\n",
    "\n",
    "**kwargs** - additional layer keyword arguments\n",
    "\n",
    "**add_weights** - provides a shortcut to create weights"
   ]
  },
  {
   "cell_type": "code",
   "execution_count": 4,
   "id": "3c75bec7",
   "metadata": {},
   "outputs": [],
   "source": [
    "import tensorflow as tf\n",
    "\n",
    "class RootMeanSquaredError(keras.metrics.Metric):\n",
    "    # define state variables in this constructor\n",
    "    def __init__(self, name=\"rmse\", **kwargs):\n",
    "        super().__init__(name=name, **kwargs)\n",
    "        # creating weights to hold mse sum\n",
    "        self.mse_sum = self.add_weight(name=\"mse_sum\", initializer=\"zeros\")\n",
    "        # creating weight to hold total no of samples\n",
    "        self.total_samples = self.add_weight(name=\"total_samples\", initializer=\"zeros\", dtype=\"int32\")\n",
    "    \n",
    "    # overriding method to update state\n",
    "    # the state variables are updated after each batch\n",
    "    # so assign add computed values to existing states after each batch to get final values\n",
    "    def update_state(self, y_true, y_pred, sample_weight=None):\n",
    "        y_true = tf.one_hot(y_true, depth = tf.shape(y_pred)[1])\n",
    "        # computing metrics and updating the state variables\n",
    "        mse = tf.reduce_sum(tf.square(y_true - y_pred))\n",
    "        self.mse_sum.assign_add(mse)\n",
    "        num_samples = tf.shape(y_pred)[0]\n",
    "        self.total_samples.assign_add(num_samples)\n",
    "    \n",
    "    # method to return current values of metrics\n",
    "    def result(self):\n",
    "        return tf.sqrt(self.mse_sum / tf.cast(self.total_samples, tf.float32))\n",
    "    \n",
    "    # method to reset metric state without reinstantiating it\n",
    "    def reset_state(self):\n",
    "        self.mse_sum.assign(0.)\n",
    "        self.total_samples.assign(0)"
   ]
  },
  {
   "cell_type": "code",
   "execution_count": 6,
   "id": "721a0daa",
   "metadata": {},
   "outputs": [
    {
     "name": "stdout",
     "output_type": "stream",
     "text": [
      "Epoch 1/3\n",
      "1563/1563 [==============================] - 20s 13ms/step - loss: 0.2971 - accuracy: 0.9115 - rmse: 7.1819 - val_loss: 0.1521 - val_accuracy: 0.9572 - val_rmse: 7.3593\n",
      "Epoch 2/3\n",
      "1563/1563 [==============================] - 19s 12ms/step - loss: 0.1649 - accuracy: 0.9542 - rmse: 7.3546 - val_loss: 0.1284 - val_accuracy: 0.9678 - val_rmse: 7.4042\n",
      "Epoch 3/3\n",
      "1563/1563 [==============================] - 21s 14ms/step - loss: 0.1415 - accuracy: 0.9615 - rmse: 7.3888 - val_loss: 0.1217 - val_accuracy: 0.9708 - val_rmse: 7.4204\n",
      "313/313 [==============================] - 2s 5ms/step - loss: 0.1184 - accuracy: 0.9709 - rmse: 7.4347\n"
     ]
    }
   ],
   "source": [
    "# using our built in metric\n",
    "model = get_minst_model()\n",
    "model.compile(optimizer=\"rmsprop\",\n",
    "             loss=\"sparse_categorical_crossentropy\",\n",
    "             metrics=[\"accuracy\", RootMeanSquaredError()])\n",
    "model.fit(train_images, train_labels, epochs=3,\n",
    "         validation_data=(val_images, val_labels))\n",
    "test_metrics = model.evaluate(test_images, test_labels)"
   ]
  },
  {
   "cell_type": "code",
   "execution_count": 7,
   "id": "16d1a24b",
   "metadata": {},
   "outputs": [
    {
     "data": {
      "text/plain": [
       "[0.11844365298748016, 0.9708999991416931, 7.434699058532715]"
      ]
     },
     "execution_count": 7,
     "metadata": {},
     "output_type": "execute_result"
    }
   ],
   "source": [
    "test_metrics\n",
    "# [loss, accuracy, rmse]"
   ]
  },
  {
   "cell_type": "markdown",
   "id": "fb22b9a0",
   "metadata": {},
   "source": [
    "# 3. Using Callbacks"
   ]
  },
  {
   "cell_type": "markdown",
   "id": "70dd2544",
   "metadata": {},
   "source": [
    "A callback is an object (a class instance implementing specific methods) that is\n",
    "passed to the model in the call to fit() and that is called by the model at various\n",
    "points during training. It has access to all the available data about the state of the\n",
    "model and its performance, and it can take action: interrupt training, save a model,\n",
    "load a different weight set, or otherwise alter the state of the model."
   ]
  },
  {
   "cell_type": "markdown",
   "id": "9f846ced",
   "metadata": {},
   "source": [
    "## 3.1 Built in early-stopping callback"
   ]
  },
  {
   "cell_type": "markdown",
   "id": "3d34fb25",
   "metadata": {},
   "source": [
    "The EarlyStopping callback interrupts training once a target metric being monitored has stopped improving for a fixed number of epochs"
   ]
  },
  {
   "cell_type": "code",
   "execution_count": 8,
   "id": "0c324855",
   "metadata": {},
   "outputs": [
    {
     "name": "stdout",
     "output_type": "stream",
     "text": [
      "Epoch 1/10\n",
      "1563/1563 [==============================] - 18s 12ms/step - loss: 0.2948 - accuracy: 0.9122 - val_loss: 0.1465 - val_accuracy: 0.9582\n",
      "Epoch 2/10\n",
      "1563/1563 [==============================] - 21s 13ms/step - loss: 0.1696 - accuracy: 0.9525 - val_loss: 0.1201 - val_accuracy: 0.9668\n",
      "Epoch 3/10\n",
      "1563/1563 [==============================] - 13s 9ms/step - loss: 0.1386 - accuracy: 0.9625 - val_loss: 0.1101 - val_accuracy: 0.9704\n",
      "Epoch 4/10\n",
      "1563/1563 [==============================] - 15s 10ms/step - loss: 0.1286 - accuracy: 0.9669 - val_loss: 0.1066 - val_accuracy: 0.9731\n",
      "Epoch 5/10\n",
      "1563/1563 [==============================] - 16s 11ms/step - loss: 0.1160 - accuracy: 0.9715 - val_loss: 0.1021 - val_accuracy: 0.9776\n",
      "Epoch 6/10\n",
      "1563/1563 [==============================] - 15s 9ms/step - loss: 0.1077 - accuracy: 0.9738 - val_loss: 0.1078 - val_accuracy: 0.9772\n",
      "Epoch 7/10\n",
      "1563/1563 [==============================] - 15s 10ms/step - loss: 0.1062 - accuracy: 0.9749 - val_loss: 0.1162 - val_accuracy: 0.9764\n"
     ]
    },
    {
     "data": {
      "text/plain": [
       "<keras.callbacks.History at 0x7f8bdd1da8f0>"
      ]
     },
     "execution_count": 8,
     "metadata": {},
     "output_type": "execute_result"
    }
   ],
   "source": [
    "# callbacks are passed on as a list when fitting model\n",
    "callbacks_list = [\n",
    "    \n",
    "    # interrupt training when val accuracy hasn't improved for 2 epochs\n",
    "    keras.callbacks.EarlyStopping(\n",
    "        monitor=\"val_accuracy\",\n",
    "        patience = 2\n",
    "    ),\n",
    "    \n",
    "    # saves current weights after every epoch\n",
    "    # don't overwrite file unless val loss has improved\n",
    "    keras.callbacks.ModelCheckpoint(\n",
    "        filepath = \"checkpoint_path.keras\",\n",
    "        monitor = \"val_loss\",\n",
    "        save_best_only = True\n",
    "    )\n",
    "]\n",
    "\n",
    "\n",
    "model = get_minst_model()\n",
    "model.compile(optimizer=\"rmsprop\",\n",
    "             loss=\"sparse_categorical_crossentropy\",\n",
    "             metrics = [\"accuracy\"])\n",
    "model.fit(train_images, train_labels,\n",
    "         epochs=10,\n",
    "         callbacks=callbacks_list,\n",
    "         validation_data=(val_images, val_labels))"
   ]
  },
  {
   "cell_type": "markdown",
   "id": "823e813b",
   "metadata": {},
   "source": [
    "## 3.2 Building your own callbacks\n",
    "\n",
    "Following are the methods you can use:\n",
    "\n",
    "- on_epoch_begin(epoch, logs)\n",
    "\n",
    "- on_epoch_end(epoch, logs)\n",
    "\n",
    "- on_batch_begin(batch, logs)\n",
    "\n",
    "- on_batch_end(batch, logs)\n",
    "\n",
    "- on_train_begin(logs)\n",
    "\n",
    "- on_train_end(logs)\n",
    "\n",
    "These methods are all called with a logs argument, which is a dictionary containing\n",
    "information about the previous batch, epoch, or training run"
   ]
  },
  {
   "cell_type": "code",
   "execution_count": 16,
   "id": "a1e16e81",
   "metadata": {},
   "outputs": [],
   "source": [
    "# creating callback to save a list of per-batch loss values\n",
    "# save a grpah of these values at the end of each epoch\n",
    "\n",
    "import matplotlib.pyplot as plt\n",
    "\n",
    "class LossHistory(keras.callbacks.Callback):\n",
    "    def on_train_begin(self, logs):\n",
    "        self.per_batch_losses = []\n",
    "    \n",
    "    def on_batch_end(self, batch, logs):\n",
    "        self.per_batch_losses.append(logs.get(\"loss\"))\n",
    "        \n",
    "    def on_epoch_end(self, epoch, logs):\n",
    "        plt.clf()\n",
    "        plt.plot(range(len(self.per_batch_losses)), self.per_batch_losses,\n",
    "                label=\"Training loss for each batch\")\n",
    "        plt.xlabel(f\"Batch (epoch {epoch})\")\n",
    "        plt.ylabel(\"Loss\")\n",
    "        plt.legend()\n",
    "        plt.savefig(f\"images/plot_at_epoch_{epoch}\")\n",
    "        self.per_batch_losses = []"
   ]
  },
  {
   "cell_type": "code",
   "execution_count": 17,
   "id": "d6acb818",
   "metadata": {},
   "outputs": [
    {
     "name": "stdout",
     "output_type": "stream",
     "text": [
      "Epoch 1/10\n",
      "1563/1563 [==============================] - 15s 10ms/step - loss: 0.2907 - accuracy: 0.9134 - val_loss: 0.1442 - val_accuracy: 0.9601\n",
      "Epoch 2/10\n",
      "1563/1563 [==============================] - 15s 9ms/step - loss: 0.1635 - accuracy: 0.9540 - val_loss: 0.1199 - val_accuracy: 0.9677\n",
      "Epoch 3/10\n",
      "1563/1563 [==============================] - 15s 10ms/step - loss: 0.1386 - accuracy: 0.9630 - val_loss: 0.1086 - val_accuracy: 0.9716\n",
      "Epoch 4/10\n",
      "1563/1563 [==============================] - 15s 10ms/step - loss: 0.1237 - accuracy: 0.9678 - val_loss: 0.1133 - val_accuracy: 0.9733\n",
      "Epoch 5/10\n",
      "1563/1563 [==============================] - 15s 10ms/step - loss: 0.1134 - accuracy: 0.9713 - val_loss: 0.1093 - val_accuracy: 0.9745\n",
      "Epoch 6/10\n",
      "1563/1563 [==============================] - 16s 10ms/step - loss: 0.1100 - accuracy: 0.9737 - val_loss: 0.1097 - val_accuracy: 0.9768\n",
      "Epoch 7/10\n",
      "1563/1563 [==============================] - 15s 10ms/step - loss: 0.1066 - accuracy: 0.9744 - val_loss: 0.1060 - val_accuracy: 0.9783\n",
      "Epoch 8/10\n",
      "1563/1563 [==============================] - 16s 11ms/step - loss: 0.1023 - accuracy: 0.9766 - val_loss: 0.1194 - val_accuracy: 0.9773\n",
      "Epoch 9/10\n",
      "1563/1563 [==============================] - 16s 10ms/step - loss: 0.0987 - accuracy: 0.9768 - val_loss: 0.1129 - val_accuracy: 0.9773\n",
      "Epoch 10/10\n",
      "1563/1563 [==============================] - 14s 9ms/step - loss: 0.0950 - accuracy: 0.9794 - val_loss: 0.1276 - val_accuracy: 0.9780\n"
     ]
    },
    {
     "data": {
      "text/plain": [
       "<keras.callbacks.History at 0x7f8bc45c8910>"
      ]
     },
     "execution_count": 17,
     "metadata": {},
     "output_type": "execute_result"
    },
    {
     "data": {
      "image/png": "[encoded data removed]",
      "text/plain": [
       "<Figure size 640x480 with 1 Axes>"
      ]
     },
     "metadata": {},
     "output_type": "display_data"
    }
   ],
   "source": [
    "model = get_minst_model()\n",
    "model.compile(optimizer=\"rmsprop\",\n",
    "    loss=\"sparse_categorical_crossentropy\",\n",
    "    metrics=[\"accuracy\"])\n",
    "model.fit(train_images, train_labels,\n",
    "        epochs=10,\n",
    "        callbacks=[LossHistory()],\n",
    "        validation_data=(val_images, val_labels))"
   ]
  },
  {
   "attachments": {
    "plot_at_epoch_0.png": {
     "image/png": "[encoded data removed]"
    }
   },
   "cell_type": "markdown",
   "id": "8826f4fe",
   "metadata": {},
   "source": [
    "![plot_at_epoch_0.png](attachment:plot_at_epoch_0.png)"
   ]
  },
  {
   "attachments": {
    "plot_at_epoch_5.png": {
     "image/png": "[encoded data removed]"
    }
   },
   "cell_type": "markdown",
   "id": "0c1f6aa0",
   "metadata": {},
   "source": [
    "![plot_at_epoch_5.png](attachment:plot_at_epoch_5.png)"
   ]
  },
  {
   "cell_type": "markdown",
   "id": "b3c84ef6",
   "metadata": {},
   "source": [
    "# 4. Monitoring and visualization with TensorBoard\n",
    "\n",
    "The easiest way to use TensorBoard with a Keras model and the fit() method is to\n",
    "use the keras.callbacks.TensorBoard callback."
   ]
  },
  {
   "cell_type": "code",
   "execution_count": 23,
   "id": "4d8e42b5",
   "metadata": {},
   "outputs": [
    {
     "name": "stdout",
     "output_type": "stream",
     "text": [
      "Epoch 1/10\n",
      "1563/1563 [==============================] - 18s 11ms/step - loss: 0.2935 - accuracy: 0.9138 - val_loss: 0.1493 - val_accuracy: 0.9580\n",
      "Epoch 2/10\n",
      "1563/1563 [==============================] - 13s 8ms/step - loss: 0.1642 - accuracy: 0.9542 - val_loss: 0.1236 - val_accuracy: 0.9677\n",
      "Epoch 3/10\n",
      "1563/1563 [==============================] - 16s 10ms/step - loss: 0.1416 - accuracy: 0.9635 - val_loss: 0.1156 - val_accuracy: 0.9704\n",
      "Epoch 4/10\n",
      "1563/1563 [==============================] - 14s 9ms/step - loss: 0.1296 - accuracy: 0.9669 - val_loss: 0.1073 - val_accuracy: 0.9727\n",
      "Epoch 5/10\n",
      "1563/1563 [==============================] - 15s 10ms/step - loss: 0.1188 - accuracy: 0.9706 - val_loss: 0.0985 - val_accuracy: 0.9756\n",
      "Epoch 6/10\n",
      "1563/1563 [==============================] - 17s 11ms/step - loss: 0.1075 - accuracy: 0.9735 - val_loss: 0.1128 - val_accuracy: 0.9762\n",
      "Epoch 7/10\n",
      "1563/1563 [==============================] - 15s 9ms/step - loss: 0.1086 - accuracy: 0.9740 - val_loss: 0.1137 - val_accuracy: 0.9754\n",
      "Epoch 8/10\n",
      "1563/1563 [==============================] - 15s 9ms/step - loss: 0.1028 - accuracy: 0.9765 - val_loss: 0.1155 - val_accuracy: 0.9768\n",
      "Epoch 9/10\n",
      "1563/1563 [==============================] - 15s 9ms/step - loss: 0.0971 - accuracy: 0.9780 - val_loss: 0.1110 - val_accuracy: 0.9777\n",
      "Epoch 10/10\n",
      "1563/1563 [==============================] - 16s 10ms/step - loss: 0.0944 - accuracy: 0.9803 - val_loss: 0.1116 - val_accuracy: 0.9788\n"
     ]
    },
    {
     "data": {
      "text/plain": [
       "<keras.callbacks.History at 0x7f8bc4362e30>"
      ]
     },
     "execution_count": 23,
     "metadata": {},
     "output_type": "execute_result"
    }
   ],
   "source": [
    "model = get_minst_model()\n",
    "model.compile(optimizer=\"rmsprop\",\n",
    "        loss=\"sparse_categorical_crossentropy\",\n",
    "        metrics=[\"accuracy\"])\n",
    "tensorboard = keras.callbacks.TensorBoard(\n",
    "        log_dir=\"log/\",\n",
    "    )\n",
    "model.fit(train_images, train_labels,\n",
    "        epochs=10,\n",
    "        validation_data=(val_images, val_labels),\n",
    "        callbacks=[tensorboard]\n",
    "         )"
   ]
  },
  {
   "cell_type": "code",
   "execution_count": 27,
   "id": "80d08e53",
   "metadata": {},
   "outputs": [
    {
     "name": "stdout",
     "output_type": "stream",
     "text": [
      "The tensorboard extension is already loaded. To reload it, use:\n",
      "  %reload_ext tensorboard\n"
     ]
    },
    {
     "data": {
      "text/html": [
       "\n",
       "      <iframe id=\"tensorboard-frame-69aed0819bbf63e3\" width=\"100%\" height=\"800\" frameborder=\"0\">\n",
       "      </iframe>\n",
       "      <script>\n",
       "        (function() {\n",
       "          const frame = document.getElementById(\"tensorboard-frame-69aed0819bbf63e3\");\n",
       "          const url = new URL(\"/\", window.location);\n",
       "          const port = 6008;\n",
       "          if (port) {\n",
       "            url.port = port;\n",
       "          }\n",
       "          frame.src = url;\n",
       "        })();\n",
       "      </script>\n",
       "    "
      ],
      "text/plain": [
       "<IPython.core.display.HTML object>"
      ]
     },
     "metadata": {},
     "output_type": "display_data"
    }
   ],
   "source": [
    "%load_ext tensorboard\n",
    "%tensorboard --logdir log/"
   ]
  },
  {
   "cell_type": "markdown",
   "id": "fb0a02fe",
   "metadata": {},
   "source": [
    "# 5. Writing custom training and evaluation loops"
   ]
  },
  {
   "cell_type": "markdown",
   "id": "e6dacd46",
   "metadata": {},
   "source": [
    "## 5.1 A general supervised learning step (custom training)"
   ]
  },
  {
   "cell_type": "code",
   "execution_count": 28,
   "id": "59259c27",
   "metadata": {},
   "outputs": [],
   "source": [
    "def train_step(inputs, targets):\n",
    "    with tf.GradientTape() as tape:\n",
    "        # specify training=True since some layers have diff behaviours with training and not\n",
    "        predictions = model(inputs, training=True)\n",
    "        loss = loss_fn(targets, predictions)\n",
    "        \n",
    "        # specify trainable weights - weights modified during backprop\n",
    "        gradients = tape.gradients(loss, model.trainable_weights)\n",
    "        optimzer.apply_gradients(zip(model.trainable_weights, gradients))"
   ]
  },
  {
   "cell_type": "markdown",
   "id": "d330f814",
   "metadata": {},
   "source": [
    "## 5.2 Low-level usage of metrics (custom evaluation)\n",
    "\n",
    "In a low-level training loop, you will probably want to leverage Keras metrics (whether\n",
    "custom ones or the built-in ones). You’ve already learned about the metrics API: simply call update_state(y_true, y_pred) for each batch of targets and predictions, and then use result() to query the current metric value:"
   ]
  },
  {
   "cell_type": "code",
   "execution_count": 30,
   "id": "62d7b309",
   "metadata": {},
   "outputs": [
    {
     "name": "stdout",
     "output_type": "stream",
     "text": [
      "result: 1.00\n",
      "Mean of values: 2.00\n"
     ]
    }
   ],
   "source": [
    "# call metric\n",
    "metric = keras.metrics.SparseCategoricalAccuracy()\n",
    "targets = [0, 1, 2]\n",
    "predictions = [[1, 0, 0], [0, 1, 0], [0, 0, 1]]\n",
    "\n",
    "# update states to get current metric value\n",
    "metric.update_state(targets, predictions)\n",
    "current_result = metric.result()\n",
    "print(f\"result: {current_result:.2f}\")\n",
    "\n",
    "values = [0, 1, 2, 3, 4]\n",
    "\n",
    "# can also track the average of a scalar value\n",
    "mean_tracker = keras.metrics.Mean()\n",
    "for value in values:\n",
    "    mean_tracker.update_state(value)\n",
    "print(f\"Mean of values: {mean_tracker.result():.2f}\")"
   ]
  },
  {
   "cell_type": "markdown",
   "id": "62548110",
   "metadata": {},
   "source": [
    "## 5.3 A complete trianing and evaluation loop"
   ]
  },
  {
   "cell_type": "code",
   "execution_count": 37,
   "id": "daf4d0ad",
   "metadata": {},
   "outputs": [],
   "source": [
    "model = get_minst_model()\n",
    "\n",
    "# define everything\n",
    "loss_fn = keras.losses.SparseCategoricalCrossentropy()\n",
    "optimizer = keras.optimizers.RMSprop()\n",
    "metrics = [keras.metrics.SparseCategoricalAccuracy()]\n",
    "loss_tracking_metric = keras.metrics.Mean()\n",
    "\n",
    "# create forward loop\n",
    "def train_step(inputs, targets):\n",
    "    with tf.GradientTape() as tape:\n",
    "        predictions = model(inputs, training=True)\n",
    "        loss = loss_fn(targets, predictions)\n",
    "    gradients = tape.gradient(loss, model.trainable_weights)\n",
    "    optimizer.apply_gradients(zip(gradients, model.trainable_weights))\n",
    "    \n",
    "    logs = {}\n",
    "    for metric in metrics:\n",
    "        metric.update_state(targets, predictions)\n",
    "        logs[metric.name] = metric.result()\n",
    "\n",
    "    loss_tracking_metric.update_state(loss)\n",
    "    logs[\"loss\"] = loss_tracking_metric.result()\n",
    "    return logs"
   ]
  },
  {
   "cell_type": "code",
   "execution_count": 38,
   "id": "e3524a0f",
   "metadata": {},
   "outputs": [],
   "source": [
    "def reset_metrics():\n",
    "    for metric in metrics:\n",
    "        metric.reset_state()\n",
    "    loss_tracking_metric.reset_state()"
   ]
  },
  {
   "cell_type": "code",
   "execution_count": 39,
   "id": "ecf76c6c",
   "metadata": {},
   "outputs": [
    {
     "name": "stdout",
     "output_type": "stream",
     "text": [
      "Results at the end of epoch 0\n",
      "...sparse_categorical_accuracy: 0.9136\n",
      "...loss: 0.2905\n",
      "Results at the end of epoch 1\n",
      "...sparse_categorical_accuracy: 0.9546\n",
      "...loss: 0.1633\n",
      "Results at the end of epoch 2\n",
      "...sparse_categorical_accuracy: 0.9623\n",
      "...loss: 0.1415\n"
     ]
    }
   ],
   "source": [
    "training_dataset = tf.data.Dataset.from_tensor_slices(\n",
    "    (train_images, train_labels))\n",
    "training_dataset = training_dataset.batch(32)\n",
    "epochs = 3\n",
    "for epoch in range(epochs):\n",
    "    reset_metrics()\n",
    "    for inputs_batch, targets_batch in training_dataset:\n",
    "        logs = train_step(inputs_batch, targets_batch)\n",
    "    print(f\"Results at the end of epoch {epoch}\")\n",
    "    for key, value in logs.items():\n",
    "        print(f\"...{key}: {value:.4f}\")"
   ]
  },
  {
   "cell_type": "code",
   "execution_count": 41,
   "id": "f0e680da",
   "metadata": {},
   "outputs": [
    {
     "name": "stdout",
     "output_type": "stream",
     "text": [
      "Evaluation results:\n",
      "...val_sparse_categorical_accuracy: 0.9672\n",
      "...val_loss: 0.1282\n"
     ]
    }
   ],
   "source": [
    "def test_step(inputs, targets):\n",
    "    predictions = model(inputs, training=False)\n",
    "    loss = loss_fn(targets, predictions)\n",
    "    \n",
    "    logs = {}\n",
    "    for metric in metrics:\n",
    "        metric.update_state(targets, predictions)\n",
    "        logs[\"val_\" + metric.name] = metric.result()\n",
    "        loss_tracking_metric.update_state(loss)\n",
    "        logs[\"val_loss\"] = loss_tracking_metric.result()\n",
    "        return logs\n",
    "val_dataset = tf.data.Dataset.from_tensor_slices((val_images, val_labels))\n",
    "val_dataset = val_dataset.batch(32)\n",
    "reset_metrics()\n",
    "for inputs_batch, targets_batch in val_dataset:\n",
    "    logs = test_step(inputs_batch, targets_batch)\n",
    "print(\"Evaluation results:\")\n",
    "for key, value in logs.items():\n",
    "    print(f\"...{key}: {value:.4f}\")"
   ]
  },
  {
   "cell_type": "markdown",
   "id": "8b5d15d1",
   "metadata": {},
   "source": [
    "## 5.4 Make it fast with tf.function"
   ]
  },
  {
   "cell_type": "code",
   "execution_count": 42,
   "id": "5fef094c",
   "metadata": {},
   "outputs": [
    {
     "name": "stdout",
     "output_type": "stream",
     "text": [
      "Evaluation results:\n",
      "...val_sparse_categorical_accuracy: 0.9672\n",
      "...val_loss: 0.1282\n"
     ]
    }
   ],
   "source": [
    "@tf.function\n",
    "def test_step(inputs, targets):\n",
    "    predictions = model(inputs, training=False)\n",
    "    loss = loss_fn(targets, predictions)\n",
    "    \n",
    "    logs = {}\n",
    "    for metric in metrics:\n",
    "        metric.update_state(targets, predictions)\n",
    "        logs[\"val_\" + metric.name] = metric.result()\n",
    "    \n",
    "    loss_tracking_metric.update_state(loss)\n",
    "    logs[\"val_loss\"] = loss_tracking_metric.result()\n",
    "    return logs\n",
    "\n",
    "val_dataset = tf.data.Dataset.from_tensor_slices((val_images, val_labels))\n",
    "val_dataset = val_dataset.batch(32)\n",
    "reset_metrics()\n",
    "\n",
    "for inputs_batch, targets_batch in val_dataset:\n",
    "    logs = test_step(inputs_batch, targets_batch)\n",
    "print(\"Evaluation results:\")\n",
    "for key, value in logs.items():\n",
    "    print(f\"...{key}: {value:.4f}\")"
   ]
  },
  {
   "cell_type": "markdown",
   "id": "6ad3731a",
   "metadata": {},
   "source": [
    "## 5.5 Leveraging fit() with a custom training loop\n",
    "\n",
    "What if you need a custom training algorithm, but you still want to leverage the\n",
    "power of the built-in Keras training logic? There’s actually a middle ground between\n",
    "fit() and a training loop written from scratch"
   ]
  },
  {
   "cell_type": "markdown",
   "id": "37cedd07",
   "metadata": {},
   "source": [
    "You can do this by overriding the train_step() method of the Model class. This is\n",
    "the function that is called by fit() for every batch of data. You will then be able to call\n",
    "fit() as usual, and it will be running your own learning algorithm under the hood."
   ]
  },
  {
   "cell_type": "markdown",
   "id": "5bf05cec",
   "metadata": {},
   "source": [
    "Steps:\n",
    "- create a new subclass of keras.Model\n",
    "- override train_step method\n",
    "- implement metrics property"
   ]
  },
  {
   "cell_type": "code",
   "execution_count": 43,
   "id": "a568a0e4",
   "metadata": {},
   "outputs": [],
   "source": [
    "loss_fn = keras.losses.SparseCategoricalCrossentropy()\n",
    "loss_tracker = keras.metrics.Mean(name=\"loss\")\n",
    "\n",
    "class CustomModel(keras.Model):\n",
    "    def train_step(self, data):\n",
    "        inputs, targets = data\n",
    "        with tf.GradientTape() as tape:\n",
    "            predictions = model(inputs, training=True)\n",
    "            loss = loss_fn(targets, predictions)\n",
    "        gradients = tape.gradient(loss, model.trainable_weights)\n",
    "        optimizer.apply_gradients(zip(gradients, model.trainable_weights))\n",
    "        \n",
    "        loss_tracker.update_state(loss)\n",
    "        return {\"loss\": loss_tracker.result()}\n",
    "    \n",
    "    @property\n",
    "    def metrics(self):\n",
    "        return [loss_tracker]"
   ]
  },
  {
   "cell_type": "code",
   "execution_count": 44,
   "id": "0b373d0c",
   "metadata": {},
   "outputs": [
    {
     "name": "stdout",
     "output_type": "stream",
     "text": [
      "Epoch 1/3\n",
      "1563/1563 [==============================] - 16s 10ms/step - loss: 0.2978\n",
      "Epoch 2/3\n",
      "1563/1563 [==============================] - 15s 10ms/step - loss: 0.1663\n",
      "Epoch 3/3\n",
      "1563/1563 [==============================] - 17s 11ms/step - loss: 0.1403\n"
     ]
    },
    {
     "data": {
      "text/plain": [
       "<keras.callbacks.History at 0x7f8bdc492770>"
      ]
     },
     "execution_count": 44,
     "metadata": {},
     "output_type": "execute_result"
    }
   ],
   "source": [
    "inputs = keras.Input(shape=(28 * 28,))\n",
    "features = layers.Dense(512, activation=\"relu\")(inputs)\n",
    "features = layers.Dropout(0.5)(features)\n",
    "outputs = layers.Dense(10, activation=\"softmax\")(features)\n",
    "model = CustomModel(inputs, outputs)\n",
    "model.compile(optimizer=keras.optimizers.RMSprop())\n",
    "model.fit(train_images, train_labels, epochs=3)"
   ]
  },
  {
   "cell_type": "code",
   "execution_count": 47,
   "id": "fcda513c",
   "metadata": {},
   "outputs": [],
   "source": [
    "class CustomModel(keras.Model):\n",
    "    def train_step(self, data):\n",
    "        inputs, targets = data\n",
    "        with tf.GradientTape() as tape:\n",
    "            predictions = self(inputs, training=True)\n",
    "            loss = self.compiled_loss(targets, predictions)\n",
    "        gradients = tape.gradient(loss, model.trainable_weights)\n",
    "        optimizer.apply_gradients(zip(gradients, model.trainable_weights))\n",
    "        self.compiled_metrics.update_state(targets, predictions)\n",
    "        return {m.name: m.result() for m in self.metrics}"
   ]
  },
  {
   "cell_type": "code",
   "execution_count": 48,
   "id": "f415edb6",
   "metadata": {},
   "outputs": [
    {
     "name": "stdout",
     "output_type": "stream",
     "text": [
      "Epoch 1/3\n",
      "1563/1563 [==============================] - 17s 11ms/step - loss: 0.2907 - sparse_categorical_accuracy: 0.9131\n",
      "Epoch 2/3\n",
      "1563/1563 [==============================] - 17s 11ms/step - loss: 0.1655 - sparse_categorical_accuracy: 0.9530\n",
      "Epoch 3/3\n",
      "1563/1563 [==============================] - 15s 9ms/step - loss: 0.1401 - sparse_categorical_accuracy: 0.9622\n"
     ]
    },
    {
     "data": {
      "text/plain": [
       "<keras.callbacks.History at 0x7f8bdc1f04c0>"
      ]
     },
     "execution_count": 48,
     "metadata": {},
     "output_type": "execute_result"
    }
   ],
   "source": [
    "inputs = keras.Input(shape=(28 * 28,))\n",
    "features = layers.Dense(512, activation=\"relu\")(inputs)\n",
    "features = layers.Dropout(0.5)(features)\n",
    "outputs = layers.Dense(10, activation=\"softmax\")(features)\n",
    "model = CustomModel(inputs, outputs)\n",
    "model.compile(optimizer=keras.optimizers.RMSprop(),\n",
    "loss=keras.losses.SparseCategoricalCrossentropy(),\n",
    "metrics=[keras.metrics.SparseCategoricalAccuracy()])\n",
    "model.fit(train_images, train_labels, epochs=3)"
   ]
  },
  {
   "cell_type": "code",
   "execution_count": null,
   "id": "1da47a0c",
   "metadata": {},
   "outputs": [],
   "source": []
  }
 ],
 "metadata": {
  "kernelspec": {
   "display_name": "env2_kernel",
   "language": "python",
   "name": "env2_kernel"
  },
  "language_info": {
   "codemirror_mode": {
    "name": "ipython",
    "version": 3
   },
   "file_extension": ".py",
   "mimetype": "text/x-python",
   "name": "python",
   "nbconvert_exporter": "python",
   "pygments_lexer": "ipython3",
   "version": "3.10.9"
  }
 },
 "nbformat": 4,
 "nbformat_minor": 5
}
