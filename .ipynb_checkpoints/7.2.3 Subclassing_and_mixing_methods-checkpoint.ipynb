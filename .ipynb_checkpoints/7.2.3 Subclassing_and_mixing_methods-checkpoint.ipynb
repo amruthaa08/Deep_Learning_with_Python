{
 "cells": [
  {
   "cell_type": "markdown",
   "id": "d073e321",
   "metadata": {},
   "source": [
    "Methods:\n",
    "- In the _ _init_ _() method, define the layers the model will use.\n",
    "- In the call() method, define the forward pass of the model, reusing the layers\n",
    "previously created.\n",
    "- Instantiate your subclass, and call it on data to create its weights."
   ]
  },
  {
   "cell_type": "code",
   "execution_count": 1,
   "id": "75243faf",
   "metadata": {},
   "outputs": [
    {
     "name": "stderr",
     "output_type": "stream",
     "text": [
      "2023-03-14 16:56:05.270360: I tensorflow/core/platform/cpu_feature_guard.cc:193] This TensorFlow binary is optimized with oneAPI Deep Neural Network Library (oneDNN) to use the following CPU instructions in performance-critical operations:  SSE4.1 SSE4.2 AVX AVX2 FMA\n",
      "To enable them in other operations, rebuild TensorFlow with the appropriate compiler flags.\n"
     ]
    }
   ],
   "source": [
    "from tensorflow import keras\n",
    "from tensorflow.keras import layers"
   ]
  },
  {
   "cell_type": "code",
   "execution_count": 5,
   "id": "1ddf4447",
   "metadata": {},
   "outputs": [],
   "source": [
    "# synthesising data again\n",
    "import numpy as np\n",
    "\n",
    "# define fixed no of samples for our example\n",
    "num_samples = 1280\n",
    "vocabulary_size = 10000\n",
    "num_tags = 100\n",
    "num_departments = 4\n",
    "\n",
    "# generating custom data\n",
    "title_data = np.random.randint(0, 2, size=(num_samples, vocabulary_size))\n",
    "text_body_data = np.random.randint(0, 2, size=(num_samples, vocabulary_size))\n",
    "tags_data = np.random.randint(0,2, size=(num_samples, num_tags))\n",
    "\n",
    "priority_data = np.random.random(size=(num_samples, 1))\n",
    "department_data = np.random.randint(0, 2, size=(num_samples, num_departments))"
   ]
  },
  {
   "cell_type": "code",
   "execution_count": 2,
   "id": "6fe93d01",
   "metadata": {},
   "outputs": [],
   "source": [
    "# rewriting previous example as a subclassed model\n",
    "\n",
    "# 1. init method - define layers with the no of units and activations\n",
    "# 2. call method - define the forward pass by passing the input thru the defined layers\n",
    "\n",
    "# create subclass inheriting from parent class\n",
    "class CustomerTicketModel(keras.Model):\n",
    "    \n",
    "    # 1. init method to define layers of the model\n",
    "    # layers are defined with their names\n",
    "    # concatenate, dense, dense(2 individual outputs)\n",
    "    def __init__(self, num_departments):\n",
    "        super().__init__()\n",
    "        # intermediate layers\n",
    "        self.concat_layer = layers.Concatenate()\n",
    "        self.mixing_layer = layers.Dense(64, activation=\"relu\")\n",
    "        # output layers\n",
    "        self.priority_scorer = layers.Dense(1, activation=\"sigmoid\")\n",
    "        self.department_classifier = layers.Dense(num_departments, activation=\"softmax\")\n",
    "        \n",
    "    # 2. call method defines forward pass\n",
    "    # the input passes thru the layers and finally output is obtained\n",
    "    def call(self, inputs):\n",
    "        # creating inputs\n",
    "        # we expect a dict of inputs, hence slicing using key\n",
    "        title = inputs[\"title\"]\n",
    "        text_body = inputs[\"text_body\"]\n",
    "        tags = inputs[\"tags\"]\n",
    "        # forward pass thru defined layers\n",
    "        features = self.concat_layer([title, text_body, tags])\n",
    "        features = self.mixing_layer(features)\n",
    "        # creating outputs\n",
    "        priority = self.priority_scorer(features)\n",
    "        department = self.department_classifier(features)\n",
    "        \n",
    "        # reuturn predictions\n",
    "        return priority, department"
   ]
  },
  {
   "cell_type": "code",
   "execution_count": 6,
   "id": "06357988",
   "metadata": {},
   "outputs": [
    {
     "name": "stderr",
     "output_type": "stream",
     "text": [
      "2023-03-14 17:06:15.959249: I tensorflow/core/platform/cpu_feature_guard.cc:193] This TensorFlow binary is optimized with oneAPI Deep Neural Network Library (oneDNN) to use the following CPU instructions in performance-critical operations:  SSE4.1 SSE4.2 AVX AVX2 FMA\n",
      "To enable them in other operations, rebuild TensorFlow with the appropriate compiler flags.\n",
      "2023-03-14 17:06:15.959976: I tensorflow/core/common_runtime/process_util.cc:146] Creating new thread pool with default inter op setting: 2. Tune using inter_op_parallelism_threads for best performance.\n"
     ]
    }
   ],
   "source": [
    "# 3. instantiate model and provide actual inputs\n",
    "# only then weights are cretaed\n",
    "model = CustomerTicketModel(num_departments=4)\n",
    "\n",
    "priority, department = model(\n",
    "    {\"title\":title_data, \"text_body\":text_body_data, \"tags\":tags_data}\n",
    ")"
   ]
  },
  {
   "cell_type": "code",
   "execution_count": 8,
   "id": "d66b842c",
   "metadata": {},
   "outputs": [
    {
     "name": "stdout",
     "output_type": "stream",
     "text": [
      "Model: \"customer_ticket_model\"\n",
      "_________________________________________________________________\n",
      " Layer (type)                Output Shape              Param #   \n",
      "=================================================================\n",
      " concatenate (Concatenate)   multiple                  0         \n",
      "                                                                 \n",
      " dense (Dense)               multiple                  1286464   \n",
      "                                                                 \n",
      " dense_1 (Dense)             multiple                  65        \n",
      "                                                                 \n",
      " dense_2 (Dense)             multiple                  260       \n",
      "                                                                 \n",
      "=================================================================\n",
      "Total params: 1,286,789\n",
      "Trainable params: 1,286,789\n",
      "Non-trainable params: 0\n",
      "_________________________________________________________________\n"
     ]
    }
   ],
   "source": [
    "model.summary()"
   ]
  },
  {
   "cell_type": "code",
   "execution_count": 14,
   "id": "18ee5327",
   "metadata": {},
   "outputs": [
    {
     "name": "stdout",
     "output_type": "stream",
     "text": [
      "40/40 [==============================] - 2s 45ms/step - loss: 20.9614 - output_1_loss: 0.3316 - output_2_loss: 20.6298 - output_1_mean_absolute_error: 0.4926 - output_2_accuracy: 0.2391\n"
     ]
    },
    {
     "data": {
      "text/plain": [
       "<keras.callbacks.History at 0x7fc2fe6d3b50>"
      ]
     },
     "execution_count": 14,
     "metadata": {},
     "output_type": "execute_result"
    }
   ],
   "source": [
    "# compiling ans training model\n",
    "model.compile(optimizer=\"rmsprop\",\n",
    "             loss=[\"mean_squared_error\", \"categorical_crossentropy\"],\n",
    "             metrics=[[\"mean_absolute_error\"], [\"accuracy\"]])\n",
    "\n",
    "model.fit({\"title\": title_data, \"text_body\": text_body_data, \"tags\":tags_data},\n",
    "         [priority_data, department_data], epochs=1)"
   ]
  },
  {
   "cell_type": "code",
   "execution_count": 16,
   "id": "e406fe4c",
   "metadata": {},
   "outputs": [
    {
     "name": "stdout",
     "output_type": "stream",
     "text": [
      "40/40 [==============================] - 1s 32ms/step - loss: 26.2598 - output_1_loss: 0.3359 - output_2_loss: 25.9239 - output_1_mean_absolute_error: 0.4973 - output_2_accuracy: 0.2492\n"
     ]
    },
    {
     "data": {
      "text/plain": [
       "[26.25979232788086,\n",
       " 0.33586543798446655,\n",
       " 25.92392921447754,\n",
       " 0.4973064064979553,\n",
       " 0.24921874701976776]"
      ]
     },
     "execution_count": 16,
     "metadata": {},
     "output_type": "execute_result"
    }
   ],
   "source": [
    "model.evaluate({\"title\":title_data,\n",
    "               \"text_body\":text_body_data,\n",
    "               \"tags\":tags_data},\n",
    "              [priority_data, department_data])"
   ]
  },
  {
   "cell_type": "markdown",
   "id": "0ed0828f",
   "metadata": {},
   "source": [
    "# Mixing and matching different patterns of building models"
   ]
  },
  {
   "cell_type": "markdown",
   "id": "bdb409a4",
   "metadata": {},
   "source": [
    "### - Subclassed model inside a functinal model"
   ]
  },
  {
   "cell_type": "code",
   "execution_count": 18,
   "id": "181e002a",
   "metadata": {},
   "outputs": [],
   "source": [
    "class Classifier(keras.Model):\n",
    "    def __init__(self, num_classes = 2):\n",
    "        super().__init__()\n",
    "        if num_classes == 2:\n",
    "            num_units = 1\n",
    "            activation = \"sigmoid\"\n",
    "        else:\n",
    "            num_units = num_classes\n",
    "            activation = \"softmax\"\n",
    "        \n",
    "        self.dense = layers.Dense(num_units, activation=activation)\n",
    "    \n",
    "    def call(self, inputs):\n",
    "        return self.dense(inputs)\n",
    "\n",
    "inputs = keras.Input(shape=(3,))\n",
    "features = layers.Dense(64, activation=\"relu\")(inputs)\n",
    "outputs = Classifier(num_classes=10)(features)\n",
    "model = keras.Model(inputs=inputs, outputs=outputs)"
   ]
  },
  {
   "cell_type": "code",
   "execution_count": 19,
   "id": "ac55fe9a",
   "metadata": {},
   "outputs": [
    {
     "name": "stdout",
     "output_type": "stream",
     "text": [
      "Model: \"model\"\n",
      "_________________________________________________________________\n",
      " Layer (type)                Output Shape              Param #   \n",
      "=================================================================\n",
      " input_1 (InputLayer)        [(None, 3)]               0         \n",
      "                                                                 \n",
      " dense_3 (Dense)             (None, 64)                256       \n",
      "                                                                 \n",
      " classifier (Classifier)     (None, 10)                650       \n",
      "                                                                 \n",
      "=================================================================\n",
      "Total params: 906\n",
      "Trainable params: 906\n",
      "Non-trainable params: 0\n",
      "_________________________________________________________________\n"
     ]
    }
   ],
   "source": [
    "model.summary()"
   ]
  },
  {
   "cell_type": "markdown",
   "id": "ff25b244",
   "metadata": {},
   "source": [
    "### - Functional model inside subclassed model"
   ]
  },
  {
   "cell_type": "code",
   "execution_count": 20,
   "id": "4b452a00",
   "metadata": {},
   "outputs": [],
   "source": [
    "inputs = keras.Input(shape=(64,))\n",
    "outputs = layers.Dense(1, activation=\"sigmoid\")(inputs)\n",
    "binary_classifier = keras.Model(inputs=inputs, outputs=outputs)\n",
    "\n",
    "class MyModel(keras.Model):\n",
    "    def __init__(self, num_classes=2):\n",
    "        super().__init__()\n",
    "        self.dense = layers.Dense(64, activation=\"relu\")\n",
    "        self.classifier = binary_classifier\n",
    "        \n",
    "    def call(self, inputs):\n",
    "        features = self.dense(inputs)\n",
    "        return self.classifier(features)\n",
    "    \n",
    "model = MyModel()"
   ]
  },
  {
   "cell_type": "code",
   "execution_count": null,
   "id": "d3e3b351",
   "metadata": {},
   "outputs": [],
   "source": []
  }
 ],
 "metadata": {
  "kernelspec": {
   "display_name": "env2_kernel",
   "language": "python",
   "name": "env2_kernel"
  },
  "language_info": {
   "codemirror_mode": {
    "name": "ipython",
    "version": 3
   },
   "file_extension": ".py",
   "mimetype": "text/x-python",
   "name": "python",
   "nbconvert_exporter": "python",
   "pygments_lexer": "ipython3",
   "version": "3.10.9"
  }
 },
 "nbformat": 4,
 "nbformat_minor": 5
}
