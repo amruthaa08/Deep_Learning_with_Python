{
 "cells": [
  {
   "cell_type": "markdown",
   "id": "a1fb2922",
   "metadata": {},
   "source": [
    "In this notebook, we’ll build a model to classify Reuters newswires into 46 mutually\n",
    "exclusive topics. Because we have many classes, this problem is an instance of multi-\n",
    "class classification, and because each data point should be classified into only one cate-\n",
    "gory, the problem is more specifically an instance of single-label multiclass classification."
   ]
  },
  {
   "cell_type": "code",
   "execution_count": 1,
   "id": "2bce98b4",
   "metadata": {},
   "outputs": [
    {
     "name": "stderr",
     "output_type": "stream",
     "text": [
      "2023-03-12 22:54:42.907408: I tensorflow/core/platform/cpu_feature_guard.cc:193] This TensorFlow binary is optimized with oneAPI Deep Neural Network Library (oneDNN) to use the following CPU instructions in performance-critical operations:  SSE4.1 SSE4.2 AVX AVX2 FMA\n",
      "To enable them in other operations, rebuild TensorFlow with the appropriate compiler flags.\n"
     ]
    },
    {
     "name": "stdout",
     "output_type": "stream",
     "text": [
      "Downloading data from https://storage.googleapis.com/tensorflow/tf-keras-datasets/reuters.npz\n",
      "2110848/2110848 [==============================] - 2s 1us/step\n"
     ]
    }
   ],
   "source": [
    "from tensorflow.keras.datasets import reuters\n",
    "(train_data, train_labels), (test_data, test_labels) = reuters.load_data(num_words = 10000)"
   ]
  },
  {
   "cell_type": "code",
   "execution_count": 2,
   "id": "5731dc5c",
   "metadata": {},
   "outputs": [
    {
     "data": {
      "text/plain": [
       "((8982,), (2246,))"
      ]
     },
     "execution_count": 2,
     "metadata": {},
     "output_type": "execute_result"
    }
   ],
   "source": [
    "train_data.shape, test_data.shape"
   ]
  },
  {
   "cell_type": "code",
   "execution_count": 5,
   "id": "70668e92",
   "metadata": {},
   "outputs": [],
   "source": [
    "# decoding back to words\n",
    "word_index = reuters.get_word_index()\n",
    "reverse_word_index = dict(\n",
    "[(value, key) for (key, value) in word_index.items()])\n",
    "decoded_newswire = \" \".join(\n",
    "[reverse_word_index.get(i - 3, \"?\") for i in\n",
    "train_data[1]])"
   ]
  },
  {
   "cell_type": "code",
   "execution_count": 6,
   "id": "8401f55f",
   "metadata": {},
   "outputs": [
    {
     "data": {
      "text/plain": [
       "'? generale de banque sa lt ? br and lt heller overseas corp of chicago have each taken 50 pct stakes in ? company sa ? factors generale de banque said in a statement it gave no financial details of the transaction sa ? ? turnover in 1986 was 17 5 billion belgian francs reuter 3'"
      ]
     },
     "execution_count": 6,
     "metadata": {},
     "output_type": "execute_result"
    }
   ],
   "source": [
    "decoded_newswire"
   ]
  },
  {
   "cell_type": "code",
   "execution_count": 7,
   "id": "26c5eba7",
   "metadata": {},
   "outputs": [],
   "source": [
    "# function to vectorize data (same as previous notebook)\n",
    "import numpy as np\n",
    "def vectorize_sequences(sequences, dimensions = 10000):\n",
    "    \n",
    "    # create a matrix of number of sequences x number of dimensions\n",
    "    results = np.zeros((len(sequences), dimensions))\n",
    "    \n",
    "    for i, sequence in enumerate(sequences):\n",
    "        for j in sequence:\n",
    "            results[i, j] = 1\n",
    "    return results"
   ]
  },
  {
   "cell_type": "code",
   "execution_count": 8,
   "id": "7c35806e",
   "metadata": {},
   "outputs": [],
   "source": [
    "x_train = vectorize_sequences(train_data)\n",
    "x_test = vectorize_sequences(test_data)"
   ]
  },
  {
   "cell_type": "code",
   "execution_count": 10,
   "id": "efad5592",
   "metadata": {},
   "outputs": [],
   "source": [
    "# vectorizing labels using one-hot encoding\n",
    "# one-hot encoding is widely used for categorical data\n",
    "def to_one_hot(labels, dimensions = 10000):\n",
    "    results = np.zeros((len(labels), dimensions))\n",
    "    for i, label in enumerate(labels):\n",
    "        results[i, label] = 1\n",
    "    return results"
   ]
  },
  {
   "cell_type": "code",
   "execution_count": 11,
   "id": "c22ff6e4",
   "metadata": {},
   "outputs": [],
   "source": [
    "y_train = to_one_hot(train_labels)\n",
    "y_test = to_one_hot(test_labels)"
   ]
  },
  {
   "cell_type": "code",
   "execution_count": 15,
   "id": "25076353",
   "metadata": {},
   "outputs": [],
   "source": [
    "# there's also a built in way to do this in keras\n",
    "from tensorflow.keras.utils import to_categorical\n",
    "y_train = to_categorical(train_labels)\n",
    "y_test = to_categorical(test_labels)"
   ]
  },
  {
   "cell_type": "code",
   "execution_count": 17,
   "id": "bb0e4666",
   "metadata": {},
   "outputs": [
    {
     "data": {
      "text/plain": [
       "array([0., 0., 0., 1., 0., 0., 0., 0., 0., 0.], dtype=float32)"
      ]
     },
     "execution_count": 17,
     "metadata": {},
     "output_type": "execute_result"
    }
   ],
   "source": [
    "y_train[0][:10]"
   ]
  },
  {
   "cell_type": "markdown",
   "id": "2c265b5a",
   "metadata": {},
   "source": [
    "## Building model"
   ]
  },
  {
   "cell_type": "code",
   "execution_count": 21,
   "id": "3c338498",
   "metadata": {},
   "outputs": [],
   "source": [
    "from tensorflow import keras\n",
    "from tensorflow.keras import layers"
   ]
  },
  {
   "cell_type": "code",
   "execution_count": 22,
   "id": "c1f708fe",
   "metadata": {},
   "outputs": [
    {
     "name": "stderr",
     "output_type": "stream",
     "text": [
      "2023-03-12 23:01:58.090747: I tensorflow/core/platform/cpu_feature_guard.cc:193] This TensorFlow binary is optimized with oneAPI Deep Neural Network Library (oneDNN) to use the following CPU instructions in performance-critical operations:  SSE4.1 SSE4.2 AVX AVX2 FMA\n",
      "To enable them in other operations, rebuild TensorFlow with the appropriate compiler flags.\n",
      "2023-03-12 23:01:58.100173: I tensorflow/core/common_runtime/process_util.cc:146] Creating new thread pool with default inter op setting: 2. Tune using inter_op_parallelism_threads for best performance.\n"
     ]
    }
   ],
   "source": [
    "model = keras.Sequential([\n",
    "layers.Dense(64, activation=\"relu\"),\n",
    "layers.Dense(64, activation=\"relu\"),\n",
    "layers.Dense(46, activation=\"softmax\")\n",
    "])"
   ]
  },
  {
   "cell_type": "code",
   "execution_count": 24,
   "id": "b85c9df4",
   "metadata": {},
   "outputs": [],
   "source": [
    "model.compile(optimizer=\"rmsprop\",\n",
    "loss=\"categorical_crossentropy\",\n",
    "metrics=[\"accuracy\"])"
   ]
  },
  {
   "cell_type": "code",
   "execution_count": 25,
   "id": "2b1ea17a",
   "metadata": {},
   "outputs": [],
   "source": [
    "# splitting data\n",
    "x_val = x_train[:1000]\n",
    "partial_x_train = x_train[1000:]\n",
    "y_val = y_train[:1000]\n",
    "partial_y_train = y_train[1000:]"
   ]
  },
  {
   "cell_type": "code",
   "execution_count": 26,
   "id": "ffef66ed",
   "metadata": {},
   "outputs": [
    {
     "name": "stdout",
     "output_type": "stream",
     "text": [
      "Epoch 1/20\n",
      "16/16 [==============================] - 2s 56ms/step - loss: 2.7240 - accuracy: 0.4970 - val_loss: 1.7488 - val_accuracy: 0.6570\n",
      "Epoch 2/20\n",
      "16/16 [==============================] - 1s 42ms/step - loss: 1.4211 - accuracy: 0.7144 - val_loss: 1.2893 - val_accuracy: 0.7300\n",
      "Epoch 3/20\n",
      "16/16 [==============================] - 1s 42ms/step - loss: 1.0330 - accuracy: 0.7864 - val_loss: 1.1181 - val_accuracy: 0.7650\n",
      "Epoch 4/20\n",
      "16/16 [==============================] - 1s 36ms/step - loss: 0.8155 - accuracy: 0.8281 - val_loss: 1.0150 - val_accuracy: 0.7870\n",
      "Epoch 5/20\n",
      "16/16 [==============================] - 0s 29ms/step - loss: 0.6588 - accuracy: 0.8602 - val_loss: 0.9577 - val_accuracy: 0.7970\n",
      "Epoch 6/20\n",
      "16/16 [==============================] - 1s 36ms/step - loss: 0.5275 - accuracy: 0.8886 - val_loss: 0.9121 - val_accuracy: 0.8060\n",
      "Epoch 7/20\n",
      "16/16 [==============================] - 1s 41ms/step - loss: 0.4312 - accuracy: 0.9097 - val_loss: 0.9021 - val_accuracy: 0.8120\n",
      "Epoch 8/20\n",
      "16/16 [==============================] - 1s 40ms/step - loss: 0.3501 - accuracy: 0.9257 - val_loss: 0.9123 - val_accuracy: 0.8200\n",
      "Epoch 9/20\n",
      "16/16 [==============================] - 1s 36ms/step - loss: 0.2885 - accuracy: 0.9384 - val_loss: 0.8938 - val_accuracy: 0.8170\n",
      "Epoch 10/20\n",
      "16/16 [==============================] - 1s 49ms/step - loss: 0.2472 - accuracy: 0.9451 - val_loss: 0.9169 - val_accuracy: 0.8110\n",
      "Epoch 11/20\n",
      "16/16 [==============================] - 1s 33ms/step - loss: 0.2123 - accuracy: 0.9489 - val_loss: 0.9459 - val_accuracy: 0.8070\n",
      "Epoch 12/20\n",
      "16/16 [==============================] - 1s 34ms/step - loss: 0.1870 - accuracy: 0.9511 - val_loss: 0.9209 - val_accuracy: 0.8260\n",
      "Epoch 13/20\n",
      "16/16 [==============================] - 1s 37ms/step - loss: 0.1716 - accuracy: 0.9531 - val_loss: 0.9444 - val_accuracy: 0.8200\n",
      "Epoch 14/20\n",
      "16/16 [==============================] - 1s 34ms/step - loss: 0.1551 - accuracy: 0.9558 - val_loss: 0.9611 - val_accuracy: 0.8190\n",
      "Epoch 15/20\n",
      "16/16 [==============================] - 1s 45ms/step - loss: 0.1418 - accuracy: 0.9550 - val_loss: 0.9635 - val_accuracy: 0.8170\n",
      "Epoch 16/20\n",
      "16/16 [==============================] - 1s 32ms/step - loss: 0.1365 - accuracy: 0.9546 - val_loss: 1.0059 - val_accuracy: 0.8150\n",
      "Epoch 17/20\n",
      "16/16 [==============================] - 1s 42ms/step - loss: 0.1275 - accuracy: 0.9568 - val_loss: 1.0450 - val_accuracy: 0.7990\n",
      "Epoch 18/20\n",
      "16/16 [==============================] - 1s 37ms/step - loss: 0.1211 - accuracy: 0.9562 - val_loss: 1.0003 - val_accuracy: 0.8090\n",
      "Epoch 19/20\n",
      "16/16 [==============================] - 1s 35ms/step - loss: 0.1167 - accuracy: 0.9570 - val_loss: 1.0952 - val_accuracy: 0.7960\n",
      "Epoch 20/20\n",
      "16/16 [==============================] - 1s 39ms/step - loss: 0.1166 - accuracy: 0.9562 - val_loss: 1.0576 - val_accuracy: 0.8030\n"
     ]
    }
   ],
   "source": [
    "history = model.fit(partial_x_train,\n",
    "partial_y_train,\n",
    "epochs=20,\n",
    "batch_size=512,\n",
    "validation_data=(x_val, y_val))"
   ]
  },
  {
   "cell_type": "code",
   "execution_count": 29,
   "id": "d977627c",
   "metadata": {},
   "outputs": [],
   "source": [
    "import matplotlib.pyplot as plt"
   ]
  },
  {
   "cell_type": "code",
   "execution_count": 30,
   "id": "28cf9b78",
   "metadata": {},
   "outputs": [
    {
     "data": {
      "image/png": "[encoded data removed]",
      "text/plain": [
       "<Figure size 640x480 with 1 Axes>"
      ]
     },
     "metadata": {},
     "output_type": "display_data"
    }
   ],
   "source": [
    "loss = history.history[\"loss\"]\n",
    "val_loss = history.history[\"val_loss\"]\n",
    "epochs = range(1, len(loss) + 1)\n",
    "plt.plot(epochs, loss, \"bo\", label=\"Training loss\")\n",
    "plt.plot(epochs, val_loss, \"b\", label=\"Validation loss\")\n",
    "plt.title(\"Training and validation loss\")\n",
    "plt.xlabel(\"Epochs\")\n",
    "plt.ylabel(\"Loss\")\n",
    "plt.legend()\n",
    "plt.show()"
   ]
  },
  {
   "cell_type": "code",
   "execution_count": 31,
   "id": "d888924e",
   "metadata": {},
   "outputs": [
    {
     "data": {
      "image/png": "[encoded data removed]",
      "text/plain": [
       "<Figure size 640x480 with 1 Axes>"
      ]
     },
     "metadata": {},
     "output_type": "display_data"
    }
   ],
   "source": [
    "plt.clf()\n",
    "acc = history.history[\"accuracy\"]\n",
    "val_acc = history.history[\"val_accuracy\"]\n",
    "plt.plot(epochs, acc, \"bo\", label=\"Training accuracy\")\n",
    "plt.plot(epochs, val_acc, \"b\", label=\"Validation accuracy\")\n",
    "plt.title(\"Training and validation accuracy\")\n",
    "plt.xlabel(\"Epochs\")\n",
    "plt.ylabel(\"Accuracy\")\n",
    "plt.legend()\n",
    "plt.show()"
   ]
  },
  {
   "cell_type": "markdown",
   "id": "1cac660a",
   "metadata": {},
   "source": [
    "model begins to overfit after 9 epochs"
   ]
  },
  {
   "cell_type": "markdown",
   "id": "41ec9ced",
   "metadata": {},
   "source": [
    "### Training a new model "
   ]
  },
  {
   "cell_type": "code",
   "execution_count": 32,
   "id": "2eaa7f53",
   "metadata": {},
   "outputs": [
    {
     "name": "stdout",
     "output_type": "stream",
     "text": [
      "Epoch 1/9\n",
      "18/18 [==============================] - 1s 32ms/step - loss: 2.4784 - accuracy: 0.5141\n",
      "Epoch 2/9\n",
      "18/18 [==============================] - 0s 26ms/step - loss: 1.3413 - accuracy: 0.7113\n",
      "Epoch 3/9\n",
      "18/18 [==============================] - 1s 31ms/step - loss: 1.0048 - accuracy: 0.7849\n",
      "Epoch 4/9\n",
      "18/18 [==============================] - 1s 34ms/step - loss: 0.7867 - accuracy: 0.8306\n",
      "Epoch 5/9\n",
      "18/18 [==============================] - 1s 29ms/step - loss: 0.6258 - accuracy: 0.8671\n",
      "Epoch 6/9\n",
      "18/18 [==============================] - 1s 31ms/step - loss: 0.5041 - accuracy: 0.8951\n",
      "Epoch 7/9\n",
      "18/18 [==============================] - 1s 30ms/step - loss: 0.4060 - accuracy: 0.9156\n",
      "Epoch 8/9\n",
      "18/18 [==============================] - 1s 30ms/step - loss: 0.3343 - accuracy: 0.9271\n",
      "Epoch 9/9\n",
      "18/18 [==============================] - 1s 30ms/step - loss: 0.2806 - accuracy: 0.9393\n",
      "71/71 [==============================] - 1s 18ms/step - loss: 0.9459 - accuracy: 0.7930\n"
     ]
    }
   ],
   "source": [
    "model = keras.Sequential([\n",
    "layers.Dense(64, activation=\"relu\"),\n",
    "layers.Dense(64, activation=\"relu\"),\n",
    "layers.Dense(46, activation=\"softmax\")\n",
    "])\n",
    "model.compile(optimizer=\"rmsprop\",\n",
    "loss=\"categorical_crossentropy\",\n",
    "metrics=[\"accuracy\"])\n",
    "model.fit(x_train,\n",
    "y_train,\n",
    "epochs=9,\n",
    "batch_size=512)\n",
    "results = model.evaluate(x_test, y_test)"
   ]
  },
  {
   "cell_type": "code",
   "execution_count": 33,
   "id": "681968c6",
   "metadata": {},
   "outputs": [
    {
     "data": {
      "text/plain": [
       "[0.9459083080291748, 0.792965292930603]"
      ]
     },
     "execution_count": 33,
     "metadata": {},
     "output_type": "execute_result"
    }
   ],
   "source": [
    "results"
   ]
  },
  {
   "cell_type": "code",
   "execution_count": 35,
   "id": "a28fd93a",
   "metadata": {},
   "outputs": [
    {
     "name": "stdout",
     "output_type": "stream",
     "text": [
      "71/71 [==============================] - 1s 21ms/step\n"
     ]
    }
   ],
   "source": [
    "preds = model.predict(x_test)"
   ]
  },
  {
   "cell_type": "code",
   "execution_count": 36,
   "id": "8b350ec9",
   "metadata": {},
   "outputs": [
    {
     "data": {
      "text/plain": [
       "(46,)"
      ]
     },
     "execution_count": 36,
     "metadata": {},
     "output_type": "execute_result"
    }
   ],
   "source": [
    "preds[0].shape"
   ]
  },
  {
   "cell_type": "code",
   "execution_count": 38,
   "id": "1ff7c531",
   "metadata": {},
   "outputs": [
    {
     "data": {
      "text/plain": [
       "3"
      ]
     },
     "execution_count": 38,
     "metadata": {},
     "output_type": "execute_result"
    }
   ],
   "source": [
    "np.argmax(preds[0])"
   ]
  },
  {
   "cell_type": "code",
   "execution_count": null,
   "id": "8bb94816",
   "metadata": {},
   "outputs": [],
   "source": []
  }
 ],
 "metadata": {
  "kernelspec": {
   "display_name": "env2_kernel",
   "language": "python",
   "name": "env2_kernel"
  },
  "language_info": {
   "codemirror_mode": {
    "name": "ipython",
    "version": 3
   },
   "file_extension": ".py",
   "mimetype": "text/x-python",
   "name": "python",
   "nbconvert_exporter": "python",
   "pygments_lexer": "ipython3",
   "version": "3.10.9"
  }
 },
 "nbformat": 4,
 "nbformat_minor": 5
}
